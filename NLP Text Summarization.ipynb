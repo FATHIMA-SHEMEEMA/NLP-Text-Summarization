{
 "cells": [
  {
   "cell_type": "markdown",
   "id": "917950c6",
   "metadata": {},
   "source": [
    "# Text Summarization"
   ]
  },
  {
   "cell_type": "code",
   "execution_count": 28,
   "id": "58db5f77",
   "metadata": {},
   "outputs": [],
   "source": [
    "import nltk\n",
    "from nltk.corpus import stopwords\n",
    "from nltk.tokenize import word_tokenize, sent_tokenize\n",
    "from heapq import nlargest\n",
    "\n"
   ]
  },
  {
   "cell_type": "code",
   "execution_count": 15,
   "id": "2393337f",
   "metadata": {},
   "outputs": [],
   "source": [
    "# # text ='''Maria Sharapova has basically no friends as tennis players on the WTA Tour. The Russian player has no problems in openly speaking about it and in a recent interview she said: ‘I don’t really hide any feelings too much.\n",
    "# I think everyone knows this is my job here. When I’m on the courts or when I’m on the court playing, I’m a competitor and I want to beat every single person whether they’re in the locker room or across the net.\n",
    "# So I’m not the one to strike up a conversation about the weather and know that in the next few minutes I have to go and try to win a tennis match.\n",
    "# I’m a pretty competitive girl. I say my hellos, but I’m not sending any players flowers as well. Uhm, I’m not really friendly or close to many players.\n",
    "# I have not a lot of friends away from the courts.’ When she said she is not really close to a lot of players, is that something strategic that she is doing? Is it different on the men’s tour than the women’s tour? ‘No, not at all.\n",
    "# I think just because you’re in the same sport doesn’t mean that you have to be friends with everyone just because you’re categorized, you’re a tennis player, so you’re going to get along with tennis players.\n",
    "# I think every person has different interests. I have friends that have completely different jobs and interests, and I’ve met them in very different parts of my life.\n",
    "# I think everyone just thinks because we’re tennis players we should be the greatest of friends. But ultimately tennis is just a very small part of what we do.\n",
    "# There are so many other things that we’re interested in, that we do.'''"
   ]
  },
  {
   "cell_type": "code",
   "execution_count": 37,
   "id": "c7fed938",
   "metadata": {},
   "outputs": [],
   "source": [
    " text='''The story starts with the author describing how he fell in love with Khushi and how they gradually became inseparable. The novel also describes the couple's struggles with their families, as they come from different cultural backgrounds and their families are not in favor of their relationship.However, the novel takes a tragic turn when Khushi dies in a car accident.The author is left heartbroken and struggles to come to terms with her death. He then decides to write the novel as a tribute to Khushi and their love story.The novel is a poignant portrayal of love, loss, and grief. It highlights the importance of cherishing our loved ones while they are still with us and the importance of coping with loss and moving on in life.'''"
   ]
  },
  {
   "cell_type": "code",
   "execution_count": 38,
   "id": "c311bbe1",
   "metadata": {},
   "outputs": [
    {
     "data": {
      "text/plain": [
       "\"The story starts with the author describing how he fell in love with Khushi and how they gradually became inseparable. The novel also describes the couple's struggles with their families, as they come from different cultural backgrounds and their families are not in favor of their relationship.However, the novel takes a tragic turn when Khushi dies in a car accident.The author is left heartbroken and struggles to come to terms with her death. He then decides to write the novel as a tribute to Khushi and their love story.The novel is a poignant portrayal of love, loss, and grief. It highlights the importance of cherishing our loved ones while they are still with us and the importance of coping with loss and moving on in life.\""
      ]
     },
     "execution_count": 38,
     "metadata": {},
     "output_type": "execute_result"
    }
   ],
   "source": [
    "text"
   ]
  },
  {
   "cell_type": "code",
   "execution_count": 39,
   "id": "11ce8c93",
   "metadata": {},
   "outputs": [],
   "source": [
    "# Sample text for summarization\n",
    "# text = \"Natural Language Processing (NLP) is a subfield of linguistics, computer science, and artificial intelligence concerned with the interactions between computers and human (natural) languages. As such, NLP is related to the area of human–computer interaction. Many challenges in NLP involve natural language understanding — that is, enabling computers to derive meaning from human or natural language input.\"\n",
    "\n"
   ]
  },
  {
   "cell_type": "code",
   "execution_count": 40,
   "id": "c37d52a3",
   "metadata": {},
   "outputs": [],
   "source": [
    "# Tokenize sentences and words\n",
    "sentences = sent_tokenize(text)\n",
    "stopwords = set(stopwords.words('english'))\n",
    "\n"
   ]
  },
  {
   "cell_type": "code",
   "execution_count": 41,
   "id": "6ec7feee",
   "metadata": {},
   "outputs": [
    {
     "data": {
      "text/plain": [
       "['The story starts with the author describing how he fell in love with Khushi and how they gradually became inseparable.',\n",
       " \"The novel also describes the couple's struggles with their families, as they come from different cultural backgrounds and their families are not in favor of their relationship.However, the novel takes a tragic turn when Khushi dies in a car accident.The author is left heartbroken and struggles to come to terms with her death.\",\n",
       " 'He then decides to write the novel as a tribute to Khushi and their love story.The novel is a poignant portrayal of love, loss, and grief.',\n",
       " 'It highlights the importance of cherishing our loved ones while they are still with us and the importance of coping with loss and moving on in life.']"
      ]
     },
     "execution_count": 41,
     "metadata": {},
     "output_type": "execute_result"
    }
   ],
   "source": [
    "sentences"
   ]
  },
  {
   "cell_type": "code",
   "execution_count": 42,
   "id": "b2c48b88",
   "metadata": {},
   "outputs": [
    {
     "data": {
      "text/plain": [
       "{'a',\n",
       " 'about',\n",
       " 'above',\n",
       " 'after',\n",
       " 'again',\n",
       " 'against',\n",
       " 'ain',\n",
       " 'all',\n",
       " 'am',\n",
       " 'an',\n",
       " 'and',\n",
       " 'any',\n",
       " 'are',\n",
       " 'aren',\n",
       " \"aren't\",\n",
       " 'as',\n",
       " 'at',\n",
       " 'be',\n",
       " 'because',\n",
       " 'been',\n",
       " 'before',\n",
       " 'being',\n",
       " 'below',\n",
       " 'between',\n",
       " 'both',\n",
       " 'but',\n",
       " 'by',\n",
       " 'can',\n",
       " 'couldn',\n",
       " \"couldn't\",\n",
       " 'd',\n",
       " 'did',\n",
       " 'didn',\n",
       " \"didn't\",\n",
       " 'do',\n",
       " 'does',\n",
       " 'doesn',\n",
       " \"doesn't\",\n",
       " 'doing',\n",
       " 'don',\n",
       " \"don't\",\n",
       " 'down',\n",
       " 'during',\n",
       " 'each',\n",
       " 'few',\n",
       " 'for',\n",
       " 'from',\n",
       " 'further',\n",
       " 'had',\n",
       " 'hadn',\n",
       " \"hadn't\",\n",
       " 'has',\n",
       " 'hasn',\n",
       " \"hasn't\",\n",
       " 'have',\n",
       " 'haven',\n",
       " \"haven't\",\n",
       " 'having',\n",
       " 'he',\n",
       " 'her',\n",
       " 'here',\n",
       " 'hers',\n",
       " 'herself',\n",
       " 'him',\n",
       " 'himself',\n",
       " 'his',\n",
       " 'how',\n",
       " 'i',\n",
       " 'if',\n",
       " 'in',\n",
       " 'into',\n",
       " 'is',\n",
       " 'isn',\n",
       " \"isn't\",\n",
       " 'it',\n",
       " \"it's\",\n",
       " 'its',\n",
       " 'itself',\n",
       " 'just',\n",
       " 'll',\n",
       " 'm',\n",
       " 'ma',\n",
       " 'me',\n",
       " 'mightn',\n",
       " \"mightn't\",\n",
       " 'more',\n",
       " 'most',\n",
       " 'mustn',\n",
       " \"mustn't\",\n",
       " 'my',\n",
       " 'myself',\n",
       " 'needn',\n",
       " \"needn't\",\n",
       " 'no',\n",
       " 'nor',\n",
       " 'not',\n",
       " 'now',\n",
       " 'o',\n",
       " 'of',\n",
       " 'off',\n",
       " 'on',\n",
       " 'once',\n",
       " 'only',\n",
       " 'or',\n",
       " 'other',\n",
       " 'our',\n",
       " 'ours',\n",
       " 'ourselves',\n",
       " 'out',\n",
       " 'over',\n",
       " 'own',\n",
       " 're',\n",
       " 's',\n",
       " 'same',\n",
       " 'shan',\n",
       " \"shan't\",\n",
       " 'she',\n",
       " \"she's\",\n",
       " 'should',\n",
       " \"should've\",\n",
       " 'shouldn',\n",
       " \"shouldn't\",\n",
       " 'so',\n",
       " 'some',\n",
       " 'such',\n",
       " 't',\n",
       " 'than',\n",
       " 'that',\n",
       " \"that'll\",\n",
       " 'the',\n",
       " 'their',\n",
       " 'theirs',\n",
       " 'them',\n",
       " 'themselves',\n",
       " 'then',\n",
       " 'there',\n",
       " 'these',\n",
       " 'they',\n",
       " 'this',\n",
       " 'those',\n",
       " 'through',\n",
       " 'to',\n",
       " 'too',\n",
       " 'under',\n",
       " 'until',\n",
       " 'up',\n",
       " 've',\n",
       " 'very',\n",
       " 'was',\n",
       " 'wasn',\n",
       " \"wasn't\",\n",
       " 'we',\n",
       " 'were',\n",
       " 'weren',\n",
       " \"weren't\",\n",
       " 'what',\n",
       " 'when',\n",
       " 'where',\n",
       " 'which',\n",
       " 'while',\n",
       " 'who',\n",
       " 'whom',\n",
       " 'why',\n",
       " 'will',\n",
       " 'with',\n",
       " 'won',\n",
       " \"won't\",\n",
       " 'wouldn',\n",
       " \"wouldn't\",\n",
       " 'y',\n",
       " 'you',\n",
       " \"you'd\",\n",
       " \"you'll\",\n",
       " \"you're\",\n",
       " \"you've\",\n",
       " 'your',\n",
       " 'yours',\n",
       " 'yourself',\n",
       " 'yourselves'}"
      ]
     },
     "execution_count": 42,
     "metadata": {},
     "output_type": "execute_result"
    }
   ],
   "source": [
    "stopwords"
   ]
  },
  {
   "cell_type": "code",
   "execution_count": 43,
   "id": "f56b3adc",
   "metadata": {},
   "outputs": [],
   "source": [
    "# Calculate word frequency\n",
    "word_freq = {}\n",
    "for word in word_tokenize(text.lower()):\n",
    "    if word not in stopwords:\n",
    "        if word not in word_freq:\n",
    "            word_freq[word] = 1\n",
    "        else:\n",
    "            word_freq[word] += 1\n",
    "\n"
   ]
  },
  {
   "cell_type": "code",
   "execution_count": 44,
   "id": "f65c50f1",
   "metadata": {},
   "outputs": [
    {
     "data": {
      "text/plain": [
       "{'story': 1,\n",
       " 'starts': 1,\n",
       " 'author': 2,\n",
       " 'describing': 1,\n",
       " 'fell': 1,\n",
       " 'love': 3,\n",
       " 'khushi': 3,\n",
       " 'gradually': 1,\n",
       " 'became': 1,\n",
       " 'inseparable': 1,\n",
       " '.': 4,\n",
       " 'novel': 4,\n",
       " 'also': 1,\n",
       " 'describes': 1,\n",
       " 'couple': 1,\n",
       " \"'s\": 1,\n",
       " 'struggles': 2,\n",
       " 'families': 2,\n",
       " ',': 4,\n",
       " 'come': 2,\n",
       " 'different': 1,\n",
       " 'cultural': 1,\n",
       " 'backgrounds': 1,\n",
       " 'favor': 1,\n",
       " 'relationship.however': 1,\n",
       " 'takes': 1,\n",
       " 'tragic': 1,\n",
       " 'turn': 1,\n",
       " 'dies': 1,\n",
       " 'car': 1,\n",
       " 'accident.the': 1,\n",
       " 'left': 1,\n",
       " 'heartbroken': 1,\n",
       " 'terms': 1,\n",
       " 'death': 1,\n",
       " 'decides': 1,\n",
       " 'write': 1,\n",
       " 'tribute': 1,\n",
       " 'story.the': 1,\n",
       " 'poignant': 1,\n",
       " 'portrayal': 1,\n",
       " 'loss': 2,\n",
       " 'grief': 1,\n",
       " 'highlights': 1,\n",
       " 'importance': 2,\n",
       " 'cherishing': 1,\n",
       " 'loved': 1,\n",
       " 'ones': 1,\n",
       " 'still': 1,\n",
       " 'us': 1,\n",
       " 'coping': 1,\n",
       " 'moving': 1,\n",
       " 'life': 1}"
      ]
     },
     "execution_count": 44,
     "metadata": {},
     "output_type": "execute_result"
    }
   ],
   "source": [
    "word_freq"
   ]
  },
  {
   "cell_type": "code",
   "execution_count": 45,
   "id": "7806af40",
   "metadata": {},
   "outputs": [],
   "source": [
    "# Calculate sentence scores\n",
    "sent_scores = {}\n",
    "for sentence in sentences:\n",
    "    for word in word_tokenize(sentence.lower()):\n",
    "        if word in word_freq:\n",
    "            if len(sentence.split(' ')) < 30:\n",
    "                if sentence not in sent_scores:\n",
    "                    sent_scores[sentence] = word_freq[word]\n",
    "                else:\n",
    "                    sent_scores[sentence] += word_freq[word]\n"
   ]
  },
  {
   "cell_type": "code",
   "execution_count": 46,
   "id": "30572d1a",
   "metadata": {},
   "outputs": [
    {
     "data": {
      "text/plain": [
       "{'The story starts with the author describing how he fell in love with Khushi and how they gradually became inseparable.': 19,\n",
       " 'He then decides to write the novel as a tribute to Khushi and their love story.The novel is a poignant portrayal of love, loss, and grief.': 38,\n",
       " 'It highlights the importance of cherishing our loved ones while they are still with us and the importance of coping with loss and moving on in life.': 19}"
      ]
     },
     "execution_count": 46,
     "metadata": {},
     "output_type": "execute_result"
    }
   ],
   "source": [
    "sent_scores"
   ]
  },
  {
   "cell_type": "code",
   "execution_count": 47,
   "id": "e9445fae",
   "metadata": {},
   "outputs": [
    {
     "name": "stdout",
     "output_type": "stream",
     "text": [
      "He then decides to write the novel as a tribute to Khushi and their love story.The novel is a poignant portrayal of love, loss, and grief. The story starts with the author describing how he fell in love with Khushi and how they gradually became inseparable. It highlights the importance of cherishing our loved ones while they are still with us and the importance of coping with loss and moving on in life.\n"
     ]
    }
   ],
   "source": [
    "\n",
    "# Get top 3 sentences\n",
    "summary_sentences = nlargest(3, sent_scores, key=sent_scores.get)\n",
    "summary = ' '.join(summary_sentences)\n",
    "print(summary)\n",
    "\n"
   ]
  },
  {
   "cell_type": "code",
   "execution_count": null,
   "id": "3fcdbfe9",
   "metadata": {},
   "outputs": [],
   "source": []
  },
  {
   "cell_type": "code",
   "execution_count": null,
   "id": "2c0c2024",
   "metadata": {},
   "outputs": [],
   "source": []
  },
  {
   "cell_type": "code",
   "execution_count": null,
   "id": "35aa318c",
   "metadata": {},
   "outputs": [],
   "source": []
  },
  {
   "cell_type": "code",
   "execution_count": null,
   "id": "e568ec56",
   "metadata": {},
   "outputs": [],
   "source": []
  },
  {
   "cell_type": "code",
   "execution_count": null,
   "id": "cbff1856",
   "metadata": {},
   "outputs": [],
   "source": []
  },
  {
   "cell_type": "code",
   "execution_count": null,
   "id": "1fe52e6a",
   "metadata": {},
   "outputs": [],
   "source": []
  },
  {
   "cell_type": "code",
   "execution_count": null,
   "id": "aa7250da",
   "metadata": {},
   "outputs": [],
   "source": []
  },
  {
   "cell_type": "code",
   "execution_count": null,
   "id": "3ab9e630",
   "metadata": {},
   "outputs": [],
   "source": []
  }
 ],
 "metadata": {
  "kernelspec": {
   "display_name": "Python 3 (ipykernel)",
   "language": "python",
   "name": "python3"
  },
  "language_info": {
   "codemirror_mode": {
    "name": "ipython",
    "version": 3
   },
   "file_extension": ".py",
   "mimetype": "text/x-python",
   "name": "python",
   "nbconvert_exporter": "python",
   "pygments_lexer": "ipython3",
   "version": "3.9.13"
  }
 },
 "nbformat": 4,
 "nbformat_minor": 5
}
